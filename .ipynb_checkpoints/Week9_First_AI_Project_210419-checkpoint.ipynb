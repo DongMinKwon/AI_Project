{
 "cells": [
  {
   "cell_type": "markdown",
   "metadata": {
    "id": "nsdforImNJgb"
   },
   "source": [
    "# Contents\n",
    "1. Reproducibility\n",
    "2. Loading Data\n",
    "3. Validation Dataset\n",
    "4. CNN\n",
    "5. GPU Acceleration\n",
    "6. Train\n",
    "7. Save & Load\n",
    "8. Transforming Image"
   ]
  },
  {
   "cell_type": "markdown",
   "metadata": {
    "id": "zpg1_Yrf5SxS"
   },
   "source": [
    "# 1. Reproducibility\n",
    "Please refer to the official document [REPRODUCIBILITY](https://pytorch.org/docs/stable/notes/randomness.html) for further information\n",
    "\n",
    "Why can't I recreate the same results?"
   ]
  },
  {
   "cell_type": "code",
   "execution_count": 1,
   "metadata": {
    "executionInfo": {
     "elapsed": 2390,
     "status": "ok",
     "timestamp": 1618777963716,
     "user": {
      "displayName": "성균관대학교홍만수",
      "photoUrl": "",
      "userId": "05963146355021129777"
     },
     "user_tz": -540
    },
    "id": "CYvylpsVL8ze"
   },
   "outputs": [],
   "source": [
    "import os\n",
    "import random\n",
    "import numpy as np\n",
    "import torch"
   ]
  },
  {
   "cell_type": "code",
   "execution_count": null,
   "metadata": {
    "executionInfo": {
     "elapsed": 2386,
     "status": "ok",
     "timestamp": 1618777963717,
     "user": {
      "displayName": "성균관대학교홍만수",
      "photoUrl": "",
      "userId": "05963146355021129777"
     },
     "user_tz": -540
    },
    "id": "MGlskIHIL44L"
   },
   "outputs": [],
   "source": [
    "SEED = 42\n",
    "\n",
    "os.environ['PYTHONHASHSEED'] = str(SEED)\n",
    "random.seed(SEED)\n",
    "np.random.seed(SEED)\n",
    "torch.manual_seed(SEED)\n",
    "\n",
    "# Below could affect development or performance\n",
    "#torch.backends.cudnn.benckmark = False    # Disable cuDNN tuner to find the best algorithm for the hardware\n",
    "#torch.use_deterministic_algorithms(True)    # Force the use of deterministic algorithms, returning error for nondeterministic algorithms"
   ]
  },
  {
   "cell_type": "markdown",
   "metadata": {
    "id": "d5f3VemIjTrT"
   },
   "source": [
    "# 2. Loading Data"
   ]
  },
  {
   "cell_type": "code",
   "execution_count": null,
   "metadata": {
    "executionInfo": {
     "elapsed": 2384,
     "status": "ok",
     "timestamp": 1618777963717,
     "user": {
      "displayName": "성균관대학교홍만수",
      "photoUrl": "",
      "userId": "05963146355021129777"
     },
     "user_tz": -540
    },
    "id": "4B_Dv4PMryaT"
   },
   "outputs": [],
   "source": [
    "import pandas as pd"
   ]
  },
  {
   "cell_type": "code",
   "execution_count": null,
   "metadata": {
    "executionInfo": {
     "elapsed": 2383,
     "status": "ok",
     "timestamp": 1618777963717,
     "user": {
      "displayName": "성균관대학교홍만수",
      "photoUrl": "",
      "userId": "05963146355021129777"
     },
     "user_tz": -540
    },
    "id": "V7GAqTriiGTt"
   },
   "outputs": [],
   "source": [
    "def load_dataset(dir='./sample_data', train='mnist_train_small.csv', test='mnist_test.csv'):\n",
    "    df_train = pd.read_csv(os.path.join(dir, train))\n",
    "    df_test = pd.read_csv(os.path.join(dir, test))\n",
    "\n",
    "    arr_train = df_train.to_numpy()\n",
    "    arr_test = df_test.to_numpy()\n",
    "\n",
    "    x_train = arr_train[:,1:]\n",
    "    y_train = arr_train[:,:1]\n",
    "    x_test = arr_test[:,1:]\n",
    "    y_test = arr_test[:,:1]\n",
    "    return x_train, x_test, y_train, y_test"
   ]
  },
  {
   "cell_type": "code",
   "execution_count": null,
   "metadata": {
    "executionInfo": {
     "elapsed": 4106,
     "status": "ok",
     "timestamp": 1618777965442,
     "user": {
      "displayName": "성균관대학교홍만수",
      "photoUrl": "",
      "userId": "05963146355021129777"
     },
     "user_tz": -540
    },
    "id": "noqH_e_yrgWu"
   },
   "outputs": [],
   "source": [
    "x_train, x_test, y_train, y_test = load_dataset(dir='./sample_data', train='mnist_train_small.csv', test='mnist_test.csv')\n",
    "\n",
    "xtr = torch.FloatTensor(x_train)\n",
    "ytr = torch.LongTensor(y_train)\n",
    "xte = torch.FloatTensor(x_test)\n",
    "yte = torch.LongTensor(y_test)\n",
    "\n",
    "ytr = ytr.squeeze()\n",
    "yte = yte.squeeze()"
   ]
  },
  {
   "cell_type": "code",
   "execution_count": null,
   "metadata": {
    "colab": {
     "base_uri": "https://localhost:8080/"
    },
    "executionInfo": {
     "elapsed": 4092,
     "status": "ok",
     "timestamp": 1618777965442,
     "user": {
      "displayName": "성균관대학교홍만수",
      "photoUrl": "",
      "userId": "05963146355021129777"
     },
     "user_tz": -540
    },
    "id": "7p9rvvadiLQV",
    "outputId": "36b3e0fa-4416-4517-c9d3-589663759fe1"
   },
   "outputs": [],
   "source": [
    "print(xtr.shape)\n",
    "print(ytr.shape)\n",
    "print(xte.shape)\n",
    "print(yte.shape)"
   ]
  },
  {
   "cell_type": "markdown",
   "metadata": {
    "id": "Z4_BqwdANTF7"
   },
   "source": [
    "## torch.utils.data.Dataset"
   ]
  },
  {
   "cell_type": "code",
   "execution_count": null,
   "metadata": {
    "executionInfo": {
     "elapsed": 4091,
     "status": "ok",
     "timestamp": 1618777965443,
     "user": {
      "displayName": "성균관대학교홍만수",
      "photoUrl": "",
      "userId": "05963146355021129777"
     },
     "user_tz": -540
    },
    "id": "d4mHbJROPxMc"
   },
   "outputs": [],
   "source": [
    "from torch.utils.data import TensorDataset"
   ]
  },
  {
   "cell_type": "code",
   "execution_count": null,
   "metadata": {
    "executionInfo": {
     "elapsed": 4089,
     "status": "ok",
     "timestamp": 1618777965443,
     "user": {
      "displayName": "성균관대학교홍만수",
      "photoUrl": "",
      "userId": "05963146355021129777"
     },
     "user_tz": -540
    },
    "id": "U_3aZU7rQC4U"
   },
   "outputs": [],
   "source": [
    "train = TensorDataset(xtr, ytr)\n",
    "test = TensorDataset(xte, yte)"
   ]
  },
  {
   "cell_type": "code",
   "execution_count": null,
   "metadata": {
    "executionInfo": {
     "elapsed": 4088,
     "status": "ok",
     "timestamp": 1618777965444,
     "user": {
      "displayName": "성균관대학교홍만수",
      "photoUrl": "",
      "userId": "05963146355021129777"
     },
     "user_tz": -540
    },
    "id": "i9rQvoHbzzhR"
   },
   "outputs": [],
   "source": [
    "sample_by_idx = train[777]\n",
    "x, y = sample_by_idx"
   ]
  },
  {
   "cell_type": "code",
   "execution_count": null,
   "metadata": {
    "executionInfo": {
     "elapsed": 4088,
     "status": "ok",
     "timestamp": 1618777965445,
     "user": {
      "displayName": "성균관대학교홍만수",
      "photoUrl": "",
      "userId": "05963146355021129777"
     },
     "user_tz": -540
    },
    "id": "qz2VABfe_uAW"
   },
   "outputs": [],
   "source": [
    "batch_by_idx = train[128:365]\n",
    "x_batch, y_batch = batch_by_idx"
   ]
  },
  {
   "cell_type": "markdown",
   "metadata": {
    "id": "xWzs3ZuTN7rm"
   },
   "source": [
    "### Custom Dataset\n",
    "\n",
    "Define:\n",
    "\n",
    "```python\n",
    "__init__\n",
    "__len__\n",
    "__getitem__\n",
    "```\n"
   ]
  },
  {
   "cell_type": "code",
   "execution_count": null,
   "metadata": {
    "executionInfo": {
     "elapsed": 4086,
     "status": "ok",
     "timestamp": 1618777965445,
     "user": {
      "displayName": "성균관대학교홍만수",
      "photoUrl": "",
      "userId": "05963146355021129777"
     },
     "user_tz": -540
    },
    "id": "SDAOeOJ4-w4c"
   },
   "outputs": [],
   "source": [
    "from torch.utils.data import Dataset"
   ]
  },
  {
   "cell_type": "code",
   "execution_count": null,
   "metadata": {
    "executionInfo": {
     "elapsed": 4086,
     "status": "ok",
     "timestamp": 1618777965446,
     "user": {
      "displayName": "성균관대학교홍만수",
      "photoUrl": "",
      "userId": "05963146355021129777"
     },
     "user_tz": -540
    },
    "id": "YA1gLIlMN1p6"
   },
   "outputs": [],
   "source": [
    "class SmallMNIST(Dataset):\n",
    "    def __init__(self, path):\n",
    "        \"\"\"\n",
    "        To load and preprocess data\n",
    "        \"\"\"\n",
    "        df = pd.read_csv(path)\n",
    "        arr = df.to_numpy()\n",
    "\n",
    "        xs = arr[:,1:]\n",
    "        ys = arr[:,:1]\n",
    "\n",
    "        self.x_data = torch.from_numpy(xs)\n",
    "        self.y_data = torch.from_numpy(ys)\n",
    "\n",
    "        self.y_data = self.y_data.type(torch.LongTensor)\n",
    "\n",
    "    def __len__(self):\n",
    "        \"\"\"\n",
    "        Return size\n",
    "        \"\"\"\n",
    "        return len(self.x_data)\n",
    "\n",
    "    def __getitem__(self, idx):\n",
    "        \"\"\"\n",
    "        Indexing\n",
    "        \"\"\"\n",
    "        return self.x_data[idx], self.y_data[idx]"
   ]
  },
  {
   "cell_type": "code",
   "execution_count": null,
   "metadata": {
    "executionInfo": {
     "elapsed": 6154,
     "status": "ok",
     "timestamp": 1618777967516,
     "user": {
      "displayName": "성균관대학교홍만수",
      "photoUrl": "",
      "userId": "05963146355021129777"
     },
     "user_tz": -540
    },
    "id": "pXUqhPQHzx3c"
   },
   "outputs": [],
   "source": [
    "train = SmallMNIST('./sample_data/mnist_train_small.csv')\n",
    "test = SmallMNIST('./sample_data/mnist_test.csv')"
   ]
  },
  {
   "cell_type": "code",
   "execution_count": null,
   "metadata": {
    "executionInfo": {
     "elapsed": 6160,
     "status": "ok",
     "timestamp": 1618777967525,
     "user": {
      "displayName": "성균관대학교홍만수",
      "photoUrl": "",
      "userId": "05963146355021129777"
     },
     "user_tz": -540
    },
    "id": "tI6ErndXyOwY"
   },
   "outputs": [],
   "source": [
    "epochs = 2\n",
    "batch_size = 32\n",
    "\n",
    "for epoch in range(epochs):\n",
    "    for i in range(len(train) // batch_size + 1):\n",
    "        xs, ys = train[i * batch_size:i * batch_size + batch_size]"
   ]
  },
  {
   "cell_type": "markdown",
   "metadata": {
    "id": "l4x5s0aXNxG4"
   },
   "source": [
    "## torch.utils.data.DataLoader"
   ]
  },
  {
   "cell_type": "code",
   "execution_count": null,
   "metadata": {
    "executionInfo": {
     "elapsed": 6160,
     "status": "ok",
     "timestamp": 1618777967526,
     "user": {
      "displayName": "성균관대학교홍만수",
      "photoUrl": "",
      "userId": "05963146355021129777"
     },
     "user_tz": -540
    },
    "id": "0xRQKPd1HqYU"
   },
   "outputs": [],
   "source": [
    "from torch.utils.data import DataLoader"
   ]
  },
  {
   "cell_type": "code",
   "execution_count": null,
   "metadata": {
    "executionInfo": {
     "elapsed": 6158,
     "status": "ok",
     "timestamp": 1618777967526,
     "user": {
      "displayName": "성균관대학교홍만수",
      "photoUrl": "",
      "userId": "05963146355021129777"
     },
     "user_tz": -540
    },
    "id": "-XZvfKl_0DJU"
   },
   "outputs": [],
   "source": [
    "train_loader = DataLoader(\n",
    "    dataset=train,\n",
    "    batch_size=4,\n",
    "    shuffle=True,\n",
    "    num_workers=0\n",
    ")\n",
    "test_loader = DataLoader(\n",
    "    dataset=test,\n",
    "    batch_size=4,\n",
    "    shuffle=False,\n",
    "    num_workers=0\n",
    ")"
   ]
  },
  {
   "cell_type": "code",
   "execution_count": null,
   "metadata": {
    "colab": {
     "base_uri": "https://localhost:8080/"
    },
    "executionInfo": {
     "elapsed": 6149,
     "status": "ok",
     "timestamp": 1618777967527,
     "user": {
      "displayName": "성균관대학교홍만수",
      "photoUrl": "",
      "userId": "05963146355021129777"
     },
     "user_tz": -540
    },
    "id": "L0xnp5N50Edy",
    "outputId": "40e9578a-e23e-41e1-a0ed-365475b307f1"
   },
   "outputs": [],
   "source": [
    "dataiter = iter(train_loader)\n",
    "sample = dataiter.next()\n",
    "features, labels = sample\n",
    "print(features.shape, labels.shape)"
   ]
  },
  {
   "cell_type": "code",
   "execution_count": null,
   "metadata": {
    "executionInfo": {
     "elapsed": 6149,
     "status": "ok",
     "timestamp": 1618777967528,
     "user": {
      "displayName": "성균관대학교홍만수",
      "photoUrl": "",
      "userId": "05963146355021129777"
     },
     "user_tz": -540
    },
    "id": "bt0m7faYaO6i"
   },
   "outputs": [],
   "source": [
    "epochs = 2\n",
    "\n",
    "for epoch in range(epochs):\n",
    "    for xs, ys in train:\n",
    "        pass"
   ]
  },
  {
   "cell_type": "markdown",
   "metadata": {
    "id": "gJwbn5KIH58J"
   },
   "source": [
    "# 3. Validation Dataset"
   ]
  },
  {
   "cell_type": "markdown",
   "metadata": {
    "id": "3yCeyaQ0Nq7d"
   },
   "source": [
    "## Index slicing"
   ]
  },
  {
   "cell_type": "code",
   "execution_count": null,
   "metadata": {
    "executionInfo": {
     "elapsed": 6147,
     "status": "ok",
     "timestamp": 1618777967528,
     "user": {
      "displayName": "성균관대학교홍만수",
      "photoUrl": "",
      "userId": "05963146355021129777"
     },
     "user_tz": -540
    },
    "id": "B0ON5LxiH8Qn"
   },
   "outputs": [],
   "source": [
    "x_train, y_train = xtr[:15000], ytr[:15000]\n",
    "x_valid, y_valid = xtr[15000:], ytr[15000:]"
   ]
  },
  {
   "cell_type": "code",
   "execution_count": null,
   "metadata": {
    "executionInfo": {
     "elapsed": 6147,
     "status": "ok",
     "timestamp": 1618777967529,
     "user": {
      "displayName": "성균관대학교홍만수",
      "photoUrl": "",
      "userId": "05963146355021129777"
     },
     "user_tz": -540
    },
    "id": "BVNYmL-rQVlz"
   },
   "outputs": [],
   "source": [
    "train_ds = TensorDataset(x_train, y_train)\n",
    "train_dl = DataLoader(train_ds, batch_size=4, shuffle=True)\n",
    "\n",
    "valid_ds = TensorDataset(x_valid, y_valid)\n",
    "valid_dl = DataLoader(valid_ds, batch_size=8)"
   ]
  },
  {
   "cell_type": "markdown",
   "metadata": {
    "id": "A532XgbaIRfp"
   },
   "source": [
    "## torch.utils.data.random_split"
   ]
  },
  {
   "cell_type": "code",
   "execution_count": null,
   "metadata": {
    "colab": {
     "base_uri": "https://localhost:8080/"
    },
    "executionInfo": {
     "elapsed": 6137,
     "status": "ok",
     "timestamp": 1618777967529,
     "user": {
      "displayName": "성균관대학교홍만수",
      "photoUrl": "",
      "userId": "05963146355021129777"
     },
     "user_tz": -540
    },
    "id": "JjSv43X_-3TX",
    "outputId": "995b5c36-348a-4810-c945-831f09ad8ff6"
   },
   "outputs": [],
   "source": [
    "tr, val = torch.utils.data.random_split(train, [int(len(train) * 0.8) + 1, int(len(train) * 0.2)])\n",
    "\n",
    "print(tr)\n",
    "print(len(tr))\n",
    "print(val)\n",
    "print(len(val))"
   ]
  },
  {
   "cell_type": "code",
   "execution_count": null,
   "metadata": {
    "executionInfo": {
     "elapsed": 6136,
     "status": "ok",
     "timestamp": 1618777967530,
     "user": {
      "displayName": "성균관대학교홍만수",
      "photoUrl": "",
      "userId": "05963146355021129777"
     },
     "user_tz": -540
    },
    "id": "o5UdV1vfPfwG"
   },
   "outputs": [],
   "source": [
    "train_loader = DataLoader(\n",
    "    dataset=tr,\n",
    "    batch_size=4,\n",
    "    shuffle=True,\n",
    "    num_workers=0\n",
    ")\n",
    "val_loader = DataLoader(\n",
    "    dataset=val,\n",
    "    batch_size=4,\n",
    "    shuffle=False,\n",
    "    num_workers=0,\n",
    ")"
   ]
  },
  {
   "cell_type": "markdown",
   "metadata": {
    "id": "F_yvQ9VpJi3N"
   },
   "source": [
    "## torch.utils.data.SubsetRandomSampler"
   ]
  },
  {
   "cell_type": "code",
   "execution_count": null,
   "metadata": {
    "executionInfo": {
     "elapsed": 6134,
     "status": "ok",
     "timestamp": 1618777967530,
     "user": {
      "displayName": "성균관대학교홍만수",
      "photoUrl": "",
      "userId": "05963146355021129777"
     },
     "user_tz": -540
    },
    "id": "KTvpLni3OCPi"
   },
   "outputs": [],
   "source": [
    "from torch.utils.data.sampler import SubsetRandomSampler"
   ]
  },
  {
   "cell_type": "code",
   "execution_count": null,
   "metadata": {
    "colab": {
     "base_uri": "https://localhost:8080/"
    },
    "executionInfo": {
     "elapsed": 6126,
     "status": "ok",
     "timestamp": 1618777967531,
     "user": {
      "displayName": "성균관대학교홍만수",
      "photoUrl": "",
      "userId": "05963146355021129777"
     },
     "user_tz": -540
    },
    "id": "ZxB1bv2xDTaT",
    "outputId": "d8b30a80-481a-475d-bce9-403a4fcdd031"
   },
   "outputs": [],
   "source": [
    "indices = list(range(len(train)))\n",
    "np.random.shuffle(indices)\n",
    "print(indices)"
   ]
  },
  {
   "cell_type": "code",
   "execution_count": null,
   "metadata": {
    "executionInfo": {
     "elapsed": 6124,
     "status": "ok",
     "timestamp": 1618777967531,
     "user": {
      "displayName": "성균관대학교홍만수",
      "photoUrl": "",
      "userId": "05963146355021129777"
     },
     "user_tz": -540
    },
    "id": "RMGPpqzIDr4c"
   },
   "outputs": [],
   "source": [
    "split = int(np.floor(0.8 * len(train)))\n",
    "tr_idx, val_idx = indices[:split], indices[split:]"
   ]
  },
  {
   "cell_type": "code",
   "execution_count": null,
   "metadata": {
    "executionInfo": {
     "elapsed": 6124,
     "status": "ok",
     "timestamp": 1618777967532,
     "user": {
      "displayName": "성균관대학교홍만수",
      "photoUrl": "",
      "userId": "05963146355021129777"
     },
     "user_tz": -540
    },
    "id": "58osWhDv_cd9"
   },
   "outputs": [],
   "source": [
    "tr_sampler = SubsetRandomSampler(tr_idx)\n",
    "val_sampler = SubsetRandomSampler(val_idx)"
   ]
  },
  {
   "cell_type": "code",
   "execution_count": null,
   "metadata": {
    "executionInfo": {
     "elapsed": 6123,
     "status": "ok",
     "timestamp": 1618777967532,
     "user": {
      "displayName": "성균관대학교홍만수",
      "photoUrl": "",
      "userId": "05963146355021129777"
     },
     "user_tz": -540
    },
    "id": "KnhD3x3kJnFr"
   },
   "outputs": [],
   "source": [
    "train_loader = DataLoader(\n",
    "    dataset=train,\n",
    "    batch_size=4,\n",
    "    num_workers=0,\n",
    "    sampler=tr_sampler\n",
    ")\n",
    "val_loader = DataLoader(\n",
    "    dataset=train,\n",
    "    batch_size=4,\n",
    "    num_workers=0,\n",
    "    sampler=val_sampler\n",
    ")"
   ]
  },
  {
   "cell_type": "markdown",
   "metadata": {
    "id": "rKrgd8fRPsEH"
   },
   "source": [
    "## sklearn.model_selection.train_test_split"
   ]
  },
  {
   "cell_type": "code",
   "execution_count": null,
   "metadata": {
    "executionInfo": {
     "elapsed": 6123,
     "status": "ok",
     "timestamp": 1618777967534,
     "user": {
      "displayName": "성균관대학교홍만수",
      "photoUrl": "",
      "userId": "05963146355021129777"
     },
     "user_tz": -540
    },
    "id": "jpOnOzYuPsEH"
   },
   "outputs": [],
   "source": [
    "from sklearn.model_selection import train_test_split"
   ]
  },
  {
   "cell_type": "code",
   "execution_count": null,
   "metadata": {
    "executionInfo": {
     "elapsed": 6123,
     "status": "ok",
     "timestamp": 1618777967535,
     "user": {
      "displayName": "성균관대학교홍만수",
      "photoUrl": "",
      "userId": "05963146355021129777"
     },
     "user_tz": -540
    },
    "id": "JtnCschbPsEI"
   },
   "outputs": [],
   "source": [
    "tr_idx, val_idx = train_test_split(list(range(len(train))), test_size=0.2, random_state=SEED, stratify=ytr.numpy())"
   ]
  },
  {
   "cell_type": "code",
   "execution_count": null,
   "metadata": {
    "executionInfo": {
     "elapsed": 6121,
     "status": "ok",
     "timestamp": 1618777967535,
     "user": {
      "displayName": "성균관대학교홍만수",
      "photoUrl": "",
      "userId": "05963146355021129777"
     },
     "user_tz": -540
    },
    "id": "ju7OufxFRB0x"
   },
   "outputs": [],
   "source": [
    "tr_sampler = SubsetRandomSampler(tr_idx)\n",
    "val_sampler = SubsetRandomSampler(val_idx)"
   ]
  },
  {
   "cell_type": "code",
   "execution_count": null,
   "metadata": {
    "executionInfo": {
     "elapsed": 6119,
     "status": "ok",
     "timestamp": 1618777967536,
     "user": {
      "displayName": "성균관대학교홍만수",
      "photoUrl": "",
      "userId": "05963146355021129777"
     },
     "user_tz": -540
    },
    "id": "v9GNBi5bRCGv"
   },
   "outputs": [],
   "source": [
    "train_loader = DataLoader(\n",
    "    dataset=train,\n",
    "    batch_size=4,\n",
    "    num_workers=0,\n",
    "    sampler=tr_sampler\n",
    ")\n",
    "val_loader = DataLoader(\n",
    "    dataset=train,\n",
    "    batch_size=4,\n",
    "    num_workers=0,\n",
    "    sampler=val_sampler\n",
    ")"
   ]
  },
  {
   "cell_type": "markdown",
   "metadata": {
    "id": "qMR1ohw53dcK"
   },
   "source": [
    "# 4. Convoluational Neural Networks"
   ]
  },
  {
   "cell_type": "code",
   "execution_count": null,
   "metadata": {
    "executionInfo": {
     "elapsed": 6118,
     "status": "ok",
     "timestamp": 1618777967536,
     "user": {
      "displayName": "성균관대학교홍만수",
      "photoUrl": "",
      "userId": "05963146355021129777"
     },
     "user_tz": -540
    },
    "id": "doZdDXSzElgl"
   },
   "outputs": [],
   "source": [
    "import torch.nn as nn\n",
    "import torch.nn.functional as F"
   ]
  },
  {
   "cell_type": "code",
   "execution_count": null,
   "metadata": {
    "executionInfo": {
     "elapsed": 6117,
     "status": "ok",
     "timestamp": 1618777967537,
     "user": {
      "displayName": "성균관대학교홍만수",
      "photoUrl": "",
      "userId": "05963146355021129777"
     },
     "user_tz": -540
    },
    "id": "z3jdyWPHId4F"
   },
   "outputs": [],
   "source": [
    "class Net(nn.Module):\n",
    "    def __init__(self):\n",
    "        super().__init__()\n",
    "        self.conv1 = nn.Conv2d(1, 16, kernel_size=5, stride=1, padding=0)\n",
    "        self.conv2 = nn.Conv2d(16, 32, kernel_size=3, stride=2, padding=1)\n",
    "        self.conv3 = nn.Conv2d(32, 16, kernel_size=3, stride=2, padding=1)\n",
    "        self.fc1 = nn.Linear(1152, 256)\n",
    "        self.fc2 = nn.Linear(256, 10)\n",
    "\n",
    "    def forward(self, x):\n",
    "        x = x.view(-1, 1, 28, 28)\n",
    "        x = self.conv1(x)\n",
    "        x = F.relu(x)\n",
    "        x = F.avg_pool2d(x, 2)\n",
    "        x = self.conv2(x)\n",
    "        x = F.relu(x)\n",
    "        x = torch.flatten(x)\n",
    "        x = self.fc1(x)\n",
    "        x = F.relu(x)\n",
    "        logits = self.fc2(x)\n",
    "        return logits"
   ]
  },
  {
   "cell_type": "markdown",
   "metadata": {
    "id": "-tRbNTxNZ9vc"
   },
   "source": [
    "Remember:\n",
    "```\n",
    "(N - F + 2P) / S + 1\n",
    "```"
   ]
  },
  {
   "cell_type": "markdown",
   "metadata": {
    "id": "YM3ft4H4I6VF"
   },
   "source": [
    "# 5. GPU Acceleration"
   ]
  },
  {
   "cell_type": "code",
   "execution_count": null,
   "metadata": {
    "colab": {
     "base_uri": "https://localhost:8080/"
    },
    "executionInfo": {
     "elapsed": 6097,
     "status": "ok",
     "timestamp": 1618777967537,
     "user": {
      "displayName": "성균관대학교홍만수",
      "photoUrl": "",
      "userId": "05963146355021129777"
     },
     "user_tz": -540
    },
    "id": "yCagUU6WI-4s",
    "outputId": "08e7614f-ba3e-4db2-daf0-d8f438f412a5"
   },
   "outputs": [],
   "source": [
    "torch.cuda.is_available()"
   ]
  },
  {
   "cell_type": "code",
   "execution_count": null,
   "metadata": {
    "colab": {
     "base_uri": "https://localhost:8080/"
    },
    "executionInfo": {
     "elapsed": 6088,
     "status": "ok",
     "timestamp": 1618777967538,
     "user": {
      "displayName": "성균관대학교홍만수",
      "photoUrl": "",
      "userId": "05963146355021129777"
     },
     "user_tz": -540
    },
    "id": "rYrE_KQvJChw",
    "outputId": "1d9543d2-c60b-425a-e351-206d9f17e766"
   },
   "outputs": [],
   "source": [
    "torch.cuda.device_count()"
   ]
  },
  {
   "cell_type": "code",
   "execution_count": null,
   "metadata": {
    "colab": {
     "base_uri": "https://localhost:8080/"
    },
    "executionInfo": {
     "elapsed": 6078,
     "status": "ok",
     "timestamp": 1618777967538,
     "user": {
      "displayName": "성균관대학교홍만수",
      "photoUrl": "",
      "userId": "05963146355021129777"
     },
     "user_tz": -540
    },
    "id": "CixBiV1wJBCL",
    "outputId": "27d21f2f-c5e1-4669-d887-bcc69737b812"
   },
   "outputs": [],
   "source": [
    "torch.cuda.current_device()"
   ]
  },
  {
   "cell_type": "code",
   "execution_count": null,
   "metadata": {
    "colab": {
     "base_uri": "https://localhost:8080/",
     "height": 34
    },
    "executionInfo": {
     "elapsed": 6070,
     "status": "ok",
     "timestamp": 1618777967539,
     "user": {
      "displayName": "성균관대학교홍만수",
      "photoUrl": "",
      "userId": "05963146355021129777"
     },
     "user_tz": -540
    },
    "id": "gOxiRpRwJHCr",
    "outputId": "1724f20e-6379-48bf-acb5-5416e6e04e88"
   },
   "outputs": [],
   "source": [
    "torch.cuda.get_device_name(0)"
   ]
  },
  {
   "cell_type": "code",
   "execution_count": null,
   "metadata": {
    "executionInfo": {
     "elapsed": 6068,
     "status": "ok",
     "timestamp": 1618777967539,
     "user": {
      "displayName": "성균관대학교홍만수",
      "photoUrl": "",
      "userId": "05963146355021129777"
     },
     "user_tz": -540
    },
    "id": "f-3gVf-w5GRJ"
   },
   "outputs": [],
   "source": [
    "device = torch.device(\"cuda:0\" if torch.cuda.is_available() else \"cpu\")"
   ]
  },
  {
   "cell_type": "code",
   "execution_count": null,
   "metadata": {
    "executionInfo": {
     "elapsed": 9458,
     "status": "ok",
     "timestamp": 1618777970931,
     "user": {
      "displayName": "성균관대학교홍만수",
      "photoUrl": "",
      "userId": "05963146355021129777"
     },
     "user_tz": -540
    },
    "id": "qAmpMX3IJzVI"
   },
   "outputs": [],
   "source": [
    "a = torch.tensor([1, 2], device=device)\n",
    "b = torch.tensor([3, 4])\n",
    "bcuda = b.cuda()\n",
    "c = torch.tensor([5, 6]).to(device)"
   ]
  },
  {
   "cell_type": "code",
   "execution_count": null,
   "metadata": {
    "colab": {
     "base_uri": "https://localhost:8080/"
    },
    "executionInfo": {
     "elapsed": 9449,
     "status": "ok",
     "timestamp": 1618777970931,
     "user": {
      "displayName": "성균관대학교홍만수",
      "photoUrl": "",
      "userId": "05963146355021129777"
     },
     "user_tz": -540
    },
    "id": "sMO0bbt3MsB9",
    "outputId": "feccd2dc-74f9-432b-962b-2f46625ad5d1"
   },
   "outputs": [],
   "source": [
    "print(a + bcuda)"
   ]
  },
  {
   "cell_type": "code",
   "execution_count": null,
   "metadata": {
    "colab": {
     "base_uri": "https://localhost:8080/",
     "height": 169
    },
    "executionInfo": {
     "elapsed": 9825,
     "status": "error",
     "timestamp": 1618777971317,
     "user": {
      "displayName": "성균관대학교홍만수",
      "photoUrl": "",
      "userId": "05963146355021129777"
     },
     "user_tz": -540
    },
    "id": "bl1okejHM0v5",
    "outputId": "3ed0aa3e-6434-47e6-941d-5d2510f72c2e"
   },
   "outputs": [],
   "source": [
    "print(a + b)"
   ]
  },
  {
   "cell_type": "code",
   "execution_count": null,
   "metadata": {
    "executionInfo": {
     "elapsed": 701,
     "status": "ok",
     "timestamp": 1618777992538,
     "user": {
      "displayName": "성균관대학교홍만수",
      "photoUrl": "",
      "userId": "05963146355021129777"
     },
     "user_tz": -540
    },
    "id": "GKB6ZNlaLYK-"
   },
   "outputs": [],
   "source": [
    "torch.cuda.empty_cache()"
   ]
  },
  {
   "cell_type": "markdown",
   "metadata": {
    "id": "VgocyiB9iJy4"
   },
   "source": [
    "# 6. Train"
   ]
  },
  {
   "cell_type": "markdown",
   "metadata": {
    "id": "PdcKoX30Tzy_"
   },
   "source": [
    "## Set Device"
   ]
  },
  {
   "cell_type": "code",
   "execution_count": null,
   "metadata": {
    "executionInfo": {
     "elapsed": 427,
     "status": "ok",
     "timestamp": 1618777992905,
     "user": {
      "displayName": "성균관대학교홍만수",
      "photoUrl": "",
      "userId": "05963146355021129777"
     },
     "user_tz": -540
    },
    "id": "dG-t9X83TzE-"
   },
   "outputs": [],
   "source": [
    "device = torch.device(\"cuda:0\" if torch.cuda.is_available() else \"cpu\")"
   ]
  },
  {
   "cell_type": "markdown",
   "metadata": {
    "id": "Pg2CNcYzRy3z"
   },
   "source": [
    "## Prepare Data"
   ]
  },
  {
   "cell_type": "code",
   "execution_count": null,
   "metadata": {
    "executionInfo": {
     "elapsed": 871,
     "status": "ok",
     "timestamp": 1618777993734,
     "user": {
      "displayName": "성균관대학교홍만수",
      "photoUrl": "",
      "userId": "05963146355021129777"
     },
     "user_tz": -540
    },
    "id": "kFQshjc5R5Si"
   },
   "outputs": [],
   "source": [
    "class SmallMNIST(Dataset):\n",
    "    def __init__(self, path):\n",
    "        df = pd.read_csv(path)\n",
    "        arr = df.to_numpy()\n",
    "\n",
    "        xs = arr[:,1:]\n",
    "        ys = arr[:,:1]\n",
    "\n",
    "        self.x_data = torch.from_numpy(xs)\n",
    "        self.y_data = torch.from_numpy(ys)\n",
    "        self.y_data.squeeze_()\n",
    "\n",
    "        self.x_data = self.x_data.type(torch.FloatTensor)\n",
    "        self.y_data = self.y_data.type(torch.LongTensor)\n",
    "\n",
    "    def __len__(self):\n",
    "        return len(self.x_data)\n",
    "\n",
    "    def __getitem__(self, idx):\n",
    "        return self.x_data[idx], self.y_data[idx]"
   ]
  },
  {
   "cell_type": "code",
   "execution_count": null,
   "metadata": {
    "executionInfo": {
     "elapsed": 2340,
     "status": "ok",
     "timestamp": 1618777995403,
     "user": {
      "displayName": "성균관대학교홍만수",
      "photoUrl": "",
      "userId": "05963146355021129777"
     },
     "user_tz": -540
    },
    "id": "4g-TTcdhSAPz"
   },
   "outputs": [],
   "source": [
    "train = SmallMNIST('./sample_data/mnist_train_small.csv')\n",
    "test = SmallMNIST('./sample_data/mnist_test.csv')"
   ]
  },
  {
   "cell_type": "code",
   "execution_count": null,
   "metadata": {
    "executionInfo": {
     "elapsed": 2155,
     "status": "ok",
     "timestamp": 1618777995404,
     "user": {
      "displayName": "성균관대학교홍만수",
      "photoUrl": "",
      "userId": "05963146355021129777"
     },
     "user_tz": -540
    },
    "id": "5baNX0b0SSWM"
   },
   "outputs": [],
   "source": [
    "tr_idx, val_idx = train_test_split(list(range(len(train))), test_size=0.2, random_state=SEED, stratify=train.y_data.numpy())"
   ]
  },
  {
   "cell_type": "code",
   "execution_count": null,
   "metadata": {
    "executionInfo": {
     "elapsed": 1973,
     "status": "ok",
     "timestamp": 1618777995405,
     "user": {
      "displayName": "성균관대학교홍만수",
      "photoUrl": "",
      "userId": "05963146355021129777"
     },
     "user_tz": -540
    },
    "id": "BG3pVIwOSw9b"
   },
   "outputs": [],
   "source": [
    "tr_sampler = SubsetRandomSampler(tr_idx)\n",
    "val_sampler = SubsetRandomSampler(val_idx)"
   ]
  },
  {
   "cell_type": "code",
   "execution_count": null,
   "metadata": {
    "executionInfo": {
     "elapsed": 1791,
     "status": "ok",
     "timestamp": 1618777995406,
     "user": {
      "displayName": "성균관대학교홍만수",
      "photoUrl": "",
      "userId": "05963146355021129777"
     },
     "user_tz": -540
    },
    "id": "92cq2VPQS1eI"
   },
   "outputs": [],
   "source": [
    "train_loader = DataLoader(\n",
    "    dataset=train,\n",
    "    batch_size=4,\n",
    "    num_workers=0,\n",
    "    sampler=tr_sampler\n",
    ")\n",
    "val_loader = DataLoader(\n",
    "    dataset=train,\n",
    "    batch_size=4,\n",
    "    num_workers=0,\n",
    "    sampler=val_sampler\n",
    ")\n",
    "test_loader = DataLoader(\n",
    "    dataset=test,\n",
    "    batch_size=4,\n",
    "    num_workers=0,\n",
    ")"
   ]
  },
  {
   "cell_type": "markdown",
   "metadata": {
    "id": "txvPBpnDTHHL"
   },
   "source": [
    "## Define Model, Loss, Optimizer"
   ]
  },
  {
   "cell_type": "code",
   "execution_count": null,
   "metadata": {
    "executionInfo": {
     "elapsed": 1419,
     "status": "ok",
     "timestamp": 1618777995406,
     "user": {
      "displayName": "성균관대학교홍만수",
      "photoUrl": "",
      "userId": "05963146355021129777"
     },
     "user_tz": -540
    },
    "id": "7XPm5jQjTGif"
   },
   "outputs": [],
   "source": [
    "class Net(nn.Module):\n",
    "    def __init__(self):\n",
    "        super().__init__()\n",
    "        self.conv1 = nn.Conv2d(1, 16, kernel_size=5, stride=1, padding=0)\n",
    "        self.conv2 = nn.Conv2d(16, 32, kernel_size=3, stride=2, padding=1)\n",
    "        self.conv3 = nn.Conv2d(32, 16, kernel_size=3, stride=2, padding=1)\n",
    "        self.pool = nn.MaxPool2d(2, 2)\n",
    "        self.fc1 = nn.Linear(288, 256)\n",
    "        self.fc2 = nn.Linear(256, 10)\n",
    "\n",
    "    def forward(self, x):\n",
    "        x = x.view(-1, 1, 28, 28)\n",
    "        x = self.pool(F.relu(self.conv1(x)))\n",
    "        x = self.pool(F.relu(self.conv2(x)))\n",
    "        x = x.view(-1, 288)\n",
    "        x = F.relu(self.fc1(x))\n",
    "        x = self.fc2(x)\n",
    "        return x"
   ]
  },
  {
   "cell_type": "code",
   "execution_count": null,
   "metadata": {
    "executionInfo": {
     "elapsed": 1229,
     "status": "ok",
     "timestamp": 1618777995406,
     "user": {
      "displayName": "성균관대학교홍만수",
      "photoUrl": "",
      "userId": "05963146355021129777"
     },
     "user_tz": -540
    },
    "id": "uluZknlFTowF"
   },
   "outputs": [],
   "source": [
    "model = Net()\n",
    "model = model.to(device)"
   ]
  },
  {
   "cell_type": "code",
   "execution_count": null,
   "metadata": {
    "executionInfo": {
     "elapsed": 1044,
     "status": "ok",
     "timestamp": 1618777995407,
     "user": {
      "displayName": "성균관대학교홍만수",
      "photoUrl": "",
      "userId": "05963146355021129777"
     },
     "user_tz": -540
    },
    "id": "_lPOs_XaUpoS"
   },
   "outputs": [],
   "source": [
    "import torch.optim as optim"
   ]
  },
  {
   "cell_type": "code",
   "execution_count": null,
   "metadata": {
    "executionInfo": {
     "elapsed": 846,
     "status": "ok",
     "timestamp": 1618777995407,
     "user": {
      "displayName": "성균관대학교홍만수",
      "photoUrl": "",
      "userId": "05963146355021129777"
     },
     "user_tz": -540
    },
    "id": "0GlqToQeUc8g"
   },
   "outputs": [],
   "source": [
    "criterion = nn.CrossEntropyLoss()\n",
    "optimizer = optim.SGD(model.parameters(), lr=0.001, momentum=0.9)"
   ]
  },
  {
   "cell_type": "markdown",
   "metadata": {
    "id": "NXsD5216TVaX"
   },
   "source": [
    "## Training"
   ]
  },
  {
   "cell_type": "code",
   "execution_count": null,
   "metadata": {
    "colab": {
     "background_save": true,
     "base_uri": "https://localhost:8080/"
    },
    "id": "bl2uN7hQTVEG"
   },
   "outputs": [],
   "source": [
    "epochs = 2\n",
    "\n",
    "for epoch in range(epochs):\n",
    "\n",
    "    train_loss = 0\n",
    "    train_total = 0\n",
    "    train_correct = 0\n",
    "    model.train()\n",
    "    for inputs, labels in train_loader:\n",
    "        inputs, labels = inputs.to(device), labels.to(device)\n",
    "        optimizer.zero_grad()\n",
    "\n",
    "        outputs = model(inputs)\n",
    "        loss = criterion(outputs, labels)\n",
    "        loss.backward()\n",
    "        optimizer.step()\n",
    "\n",
    "        train_loss += loss.item()\n",
    "\n",
    "        _, predicted = outputs.max(1)\n",
    "        train_total += labels.size(0)\n",
    "        train_correct += predicted.eq(labels).sum().item()\n",
    "    train_acc = train_correct / train_total\n",
    "\n",
    "    valid_loss = 0\n",
    "    valid_total = 0\n",
    "    valid_correct = 0\n",
    "    model.eval()\n",
    "    with torch.no_grad():\n",
    "        for inputs, labels in val_loader:\n",
    "            inputs, labels = inputs.to(device), labels.to(device)\n",
    "            outputs = model(inputs)\n",
    "            loss = F.cross_entropy(outputs, labels)\n",
    "            valid_loss += loss.item()\n",
    "            _, predicted = torch.max(outputs.data, 1)\n",
    "            valid_total += labels.size(0)\n",
    "            valid_correct += (predicted == labels).sum().item()\n",
    "    valid_acc = valid_correct / valid_total\n",
    "\n",
    "    print('Epoch: ', epoch + 1)\n",
    "    print('Loss: ', 'Train %.4f / Valid %.4f' % (train_loss, valid_loss))\n",
    "    print('Accuracy: ', 'Train %.4f / Valid %.4f' % (train_acc * 100, valid_acc * 100))"
   ]
  },
  {
   "cell_type": "markdown",
   "metadata": {
    "id": "Tp6YhM87RSnP"
   },
   "source": [
    "# 7. Save & Load"
   ]
  },
  {
   "cell_type": "code",
   "execution_count": null,
   "metadata": {
    "executionInfo": {
     "elapsed": 16267,
     "status": "ok",
     "timestamp": 1618778012226,
     "user": {
      "displayName": "성균관대학교홍만수",
      "photoUrl": "",
      "userId": "05963146355021129777"
     },
     "user_tz": -540
    },
    "id": "1vgsdrdnRSnR"
   },
   "outputs": [],
   "source": [
    "torch.save(model.state_dict(), './model.pt')"
   ]
  },
  {
   "cell_type": "code",
   "execution_count": null,
   "metadata": {
    "colab": {
     "base_uri": "https://localhost:8080/"
    },
    "executionInfo": {
     "elapsed": 15944,
     "status": "ok",
     "timestamp": 1618778012227,
     "user": {
      "displayName": "성균관대학교홍만수",
      "photoUrl": "",
      "userId": "05963146355021129777"
     },
     "user_tz": -540
    },
    "id": "QNrxErONQucT",
    "outputId": "db4889e8-2a33-4105-b85c-31e7d87e2f6f"
   },
   "outputs": [],
   "source": [
    "print('state_dict format of the model: {}'.format(model.state_dict()))"
   ]
  },
  {
   "cell_type": "code",
   "execution_count": null,
   "metadata": {
    "colab": {
     "base_uri": "https://localhost:8080/"
    },
    "executionInfo": {
     "elapsed": 15599,
     "status": "ok",
     "timestamp": 1618778012227,
     "user": {
      "displayName": "성균관대학교홍만수",
      "photoUrl": "",
      "userId": "05963146355021129777"
     },
     "user_tz": -540
    },
    "id": "izq9Vi4mhfZl",
    "outputId": "65538402-c8ad-4d21-aba5-a8911b5a9617"
   },
   "outputs": [],
   "source": [
    "new_model = Net()\n",
    "new_model.load_state_dict(torch.load('./model.pt'))"
   ]
  },
  {
   "cell_type": "markdown",
   "metadata": {
    "id": "Hg6kQdzDh8a3"
   },
   "source": [
    "# 8. Transforming Image"
   ]
  },
  {
   "cell_type": "markdown",
   "metadata": {
    "id": "a1RMmxaGE1JG"
   },
   "source": [
    "## torchvision.transforms"
   ]
  },
  {
   "cell_type": "code",
   "execution_count": null,
   "metadata": {
    "executionInfo": {
     "elapsed": 9770,
     "status": "aborted",
     "timestamp": 1618777971308,
     "user": {
      "displayName": "성균관대학교홍만수",
      "photoUrl": "",
      "userId": "05963146355021129777"
     },
     "user_tz": -540
    },
    "id": "hJiywz1xlJwy"
   },
   "outputs": [],
   "source": [
    "!wget https://i.pinimg.com/originals/21/ae/ae/21aeae8d2cae56289bd55665fb5d9b8f.jpg\n",
    "!mv 21aeae8d2cae56289bd55665fb5d9b8f.jpg example.jpg\n",
    "!rm 21aeae8d2cae56289bd55665fb5d9b8f.jpg"
   ]
  },
  {
   "cell_type": "code",
   "execution_count": null,
   "metadata": {
    "executionInfo": {
     "elapsed": 9762,
     "status": "aborted",
     "timestamp": 1618777971308,
     "user": {
      "displayName": "성균관대학교홍만수",
      "photoUrl": "",
      "userId": "05963146355021129777"
     },
     "user_tz": -540
    },
    "id": "7DtaUWQqg5qM"
   },
   "outputs": [],
   "source": [
    "from IPython.display import Image, display\n",
    "\n",
    "display(Image(filename='example.jpg'))"
   ]
  },
  {
   "cell_type": "code",
   "execution_count": 2,
   "metadata": {
    "executionInfo": {
     "elapsed": 9756,
     "status": "aborted",
     "timestamp": 1618777971309,
     "user": {
      "displayName": "성균관대학교홍만수",
      "photoUrl": "",
      "userId": "05963146355021129777"
     },
     "user_tz": -540
    },
    "id": "2ox-yJL8g5zM"
   },
   "outputs": [
    {
     "ename": "FileNotFoundError",
     "evalue": "[Errno 2] No such file or directory: 'example.jpg'",
     "output_type": "error",
     "traceback": [
      "\u001b[1;31m---------------------------------------------------------------------------\u001b[0m",
      "\u001b[1;31mFileNotFoundError\u001b[0m                         Traceback (most recent call last)",
      "\u001b[1;32m<ipython-input-2-f30306b7857a>\u001b[0m in \u001b[0;36m<module>\u001b[1;34m\u001b[0m\n\u001b[0;32m      1\u001b[0m \u001b[1;32mfrom\u001b[0m \u001b[0mPIL\u001b[0m \u001b[1;32mimport\u001b[0m \u001b[0mImage\u001b[0m \u001b[1;32mas\u001b[0m \u001b[0mImg\u001b[0m\u001b[1;33m\u001b[0m\u001b[1;33m\u001b[0m\u001b[0m\n\u001b[0;32m      2\u001b[0m \u001b[1;33m\u001b[0m\u001b[0m\n\u001b[1;32m----> 3\u001b[1;33m \u001b[0mim\u001b[0m \u001b[1;33m=\u001b[0m \u001b[0mImg\u001b[0m\u001b[1;33m.\u001b[0m\u001b[0mopen\u001b[0m\u001b[1;33m(\u001b[0m\u001b[1;34m'example.jpg'\u001b[0m\u001b[1;33m)\u001b[0m\u001b[1;33m\u001b[0m\u001b[1;33m\u001b[0m\u001b[0m\n\u001b[0m\u001b[0;32m      4\u001b[0m \u001b[1;33m\u001b[0m\u001b[0m\n\u001b[0;32m      5\u001b[0m \u001b[0mprint\u001b[0m\u001b[1;33m(\u001b[0m\u001b[0mim\u001b[0m\u001b[1;33m.\u001b[0m\u001b[0msize\u001b[0m\u001b[1;33m)\u001b[0m\u001b[1;33m\u001b[0m\u001b[1;33m\u001b[0m\u001b[0m\n",
      "\u001b[1;32mC:\\ProgramData\\Anaconda3\\envs\\pytorch\\lib\\site-packages\\PIL\\Image.py\u001b[0m in \u001b[0;36mopen\u001b[1;34m(fp, mode, formats)\u001b[0m\n\u001b[0;32m   2910\u001b[0m \u001b[1;33m\u001b[0m\u001b[0m\n\u001b[0;32m   2911\u001b[0m     \u001b[1;32mif\u001b[0m \u001b[0mfilename\u001b[0m\u001b[1;33m:\u001b[0m\u001b[1;33m\u001b[0m\u001b[1;33m\u001b[0m\u001b[0m\n\u001b[1;32m-> 2912\u001b[1;33m         \u001b[0mfp\u001b[0m \u001b[1;33m=\u001b[0m \u001b[0mbuiltins\u001b[0m\u001b[1;33m.\u001b[0m\u001b[0mopen\u001b[0m\u001b[1;33m(\u001b[0m\u001b[0mfilename\u001b[0m\u001b[1;33m,\u001b[0m \u001b[1;34m\"rb\"\u001b[0m\u001b[1;33m)\u001b[0m\u001b[1;33m\u001b[0m\u001b[1;33m\u001b[0m\u001b[0m\n\u001b[0m\u001b[0;32m   2913\u001b[0m         \u001b[0mexclusive_fp\u001b[0m \u001b[1;33m=\u001b[0m \u001b[1;32mTrue\u001b[0m\u001b[1;33m\u001b[0m\u001b[1;33m\u001b[0m\u001b[0m\n\u001b[0;32m   2914\u001b[0m \u001b[1;33m\u001b[0m\u001b[0m\n",
      "\u001b[1;31mFileNotFoundError\u001b[0m: [Errno 2] No such file or directory: 'example.jpg'"
     ]
    }
   ],
   "source": [
    "from PIL import Image as Img\n",
    "\n",
    "im = Img.open('example.jpg')\n",
    "\n",
    "print(im.size)\n",
    "type(im)"
   ]
  },
  {
   "cell_type": "code",
   "execution_count": 3,
   "metadata": {
    "executionInfo": {
     "elapsed": 9755,
     "status": "aborted",
     "timestamp": 1618777971309,
     "user": {
      "displayName": "성균관대학교홍만수",
      "photoUrl": "",
      "userId": "05963146355021129777"
     },
     "user_tz": -540
    },
    "id": "LQPfTrV_ayDJ"
   },
   "outputs": [],
   "source": [
    "from torchvision import transforms"
   ]
  },
  {
   "cell_type": "code",
   "execution_count": null,
   "metadata": {
    "executionInfo": {
     "elapsed": 9753,
     "status": "aborted",
     "timestamp": 1618777971309,
     "user": {
      "displayName": "성균관대학교홍만수",
      "photoUrl": "",
      "userId": "05963146355021129777"
     },
     "user_tz": -540
    },
    "id": "cpr5Qs5ti_UH"
   },
   "outputs": [],
   "source": [
    "trans = transforms.ToTensor()\n",
    "\n",
    "x = trans(im)"
   ]
  },
  {
   "cell_type": "code",
   "execution_count": null,
   "metadata": {
    "executionInfo": {
     "elapsed": 9747,
     "status": "aborted",
     "timestamp": 1618777971310,
     "user": {
      "displayName": "성균관대학교홍만수",
      "photoUrl": "",
      "userId": "05963146355021129777"
     },
     "user_tz": -540
    },
    "id": "Y9QOaL7djV9Q"
   },
   "outputs": [],
   "source": [
    "print(x.size())"
   ]
  },
  {
   "cell_type": "code",
   "execution_count": null,
   "metadata": {
    "executionInfo": {
     "elapsed": 9738,
     "status": "aborted",
     "timestamp": 1618777971310,
     "user": {
      "displayName": "성균관대학교홍만수",
      "photoUrl": "",
      "userId": "05963146355021129777"
     },
     "user_tz": -540
    },
    "id": "AJBsMH96rELF"
   },
   "outputs": [],
   "source": [
    "trans = transforms.Resize((256, 384))\n",
    "\n",
    "resized = trans(im)\n",
    "\n",
    "display(resized)\n",
    "print(resized.size)"
   ]
  },
  {
   "cell_type": "code",
   "execution_count": null,
   "metadata": {
    "executionInfo": {
     "elapsed": 9731,
     "status": "aborted",
     "timestamp": 1618777971311,
     "user": {
      "displayName": "성균관대학교홍만수",
      "photoUrl": "",
      "userId": "05963146355021129777"
     },
     "user_tz": -540
    },
    "id": "DaEJPoofnaq8"
   },
   "outputs": [],
   "source": [
    "trans = transforms.CenterCrop((100, 150))\n",
    "\n",
    "newim = trans(resized)\n",
    "\n",
    "display(newim)"
   ]
  },
  {
   "cell_type": "code",
   "execution_count": null,
   "metadata": {
    "executionInfo": {
     "elapsed": 9724,
     "status": "aborted",
     "timestamp": 1618777971311,
     "user": {
      "displayName": "성균관대학교홍만수",
      "photoUrl": "",
      "userId": "05963146355021129777"
     },
     "user_tz": -540
    },
    "id": "PHbHdm-YqWKr"
   },
   "outputs": [],
   "source": [
    "trans = transforms.RandomCrop((100, 100), padding=30, padding_mode='constant')\n",
    "\n",
    "newim = trans(resized)\n",
    "\n",
    "display(newim)"
   ]
  },
  {
   "cell_type": "code",
   "execution_count": null,
   "metadata": {
    "executionInfo": {
     "elapsed": 9717,
     "status": "aborted",
     "timestamp": 1618777971311,
     "user": {
      "displayName": "성균관대학교홍만수",
      "photoUrl": "",
      "userId": "05963146355021129777"
     },
     "user_tz": -540
    },
    "id": "u4bE0EKaqsI7"
   },
   "outputs": [],
   "source": [
    "trans = transforms.Grayscale()\n",
    "\n",
    "newim = trans(resized)\n",
    "\n",
    "display(newim)"
   ]
  },
  {
   "cell_type": "code",
   "execution_count": null,
   "metadata": {
    "executionInfo": {
     "elapsed": 9711,
     "status": "aborted",
     "timestamp": 1618777971312,
     "user": {
      "displayName": "성균관대학교홍만수",
      "photoUrl": "",
      "userId": "05963146355021129777"
     },
     "user_tz": -540
    },
    "id": "GFjAMA5gr17j"
   },
   "outputs": [],
   "source": [
    "trans = transforms.ToTensor()\n",
    "\n",
    "print(trans(newim).size())"
   ]
  },
  {
   "cell_type": "code",
   "execution_count": null,
   "metadata": {
    "executionInfo": {
     "elapsed": 9703,
     "status": "aborted",
     "timestamp": 1618777971312,
     "user": {
      "displayName": "성균관대학교홍만수",
      "photoUrl": "",
      "userId": "05963146355021129777"
     },
     "user_tz": -540
    },
    "id": "0D98hi7uphR7"
   },
   "outputs": [],
   "source": [
    "trans = transforms.ColorJitter(brightness=0, contrast=3, saturation=6, hue=0.3)\n",
    "\n",
    "newim = trans(resized)\n",
    "\n",
    "display(newim)"
   ]
  },
  {
   "cell_type": "code",
   "execution_count": null,
   "metadata": {
    "executionInfo": {
     "elapsed": 9696,
     "status": "aborted",
     "timestamp": 1618777971312,
     "user": {
      "displayName": "성균관대학교홍만수",
      "photoUrl": "",
      "userId": "05963146355021129777"
     },
     "user_tz": -540
    },
    "id": "agslCLAYqWbS"
   },
   "outputs": [],
   "source": [
    "trans = transforms.RandomVerticalFlip(p=1)\n",
    "\n",
    "newim = trans(resized)\n",
    "\n",
    "display(newim)"
   ]
  },
  {
   "cell_type": "code",
   "execution_count": null,
   "metadata": {
    "executionInfo": {
     "elapsed": 9689,
     "status": "aborted",
     "timestamp": 1618777971313,
     "user": {
      "displayName": "성균관대학교홍만수",
      "photoUrl": "",
      "userId": "05963146355021129777"
     },
     "user_tz": -540
    },
    "id": "tNbK_ysauTHl"
   },
   "outputs": [],
   "source": [
    "trans = transforms.RandomRotation(degrees=40, center=(40, 70))\n",
    "\n",
    "newim = trans(resized)\n",
    "\n",
    "display(newim)"
   ]
  },
  {
   "cell_type": "code",
   "execution_count": null,
   "metadata": {
    "executionInfo": {
     "elapsed": 9682,
     "status": "aborted",
     "timestamp": 1618777971313,
     "user": {
      "displayName": "성균관대학교홍만수",
      "photoUrl": "",
      "userId": "05963146355021129777"
     },
     "user_tz": -540
    },
    "id": "fyAZ_NwbqWTK"
   },
   "outputs": [],
   "source": [
    "trans = transforms.RandomAffine(degrees=0, translate=(0.2, 0.8))\n",
    "\n",
    "newim = trans(resized)\n",
    "\n",
    "display(newim)"
   ]
  },
  {
   "cell_type": "code",
   "execution_count": null,
   "metadata": {
    "executionInfo": {
     "elapsed": 9674,
     "status": "aborted",
     "timestamp": 1618777971313,
     "user": {
      "displayName": "성균관대학교홍만수",
      "photoUrl": "",
      "userId": "05963146355021129777"
     },
     "user_tz": -540
    },
    "id": "bR0WFLpbqWjz"
   },
   "outputs": [],
   "source": [
    "trans = transforms.Resize((4, 6))\n",
    "\n",
    "resized = trans(im)\n",
    "\n",
    "trans = transforms.ToTensor()\n",
    "\n",
    "x = trans(resized)\n",
    "\n",
    "print(x[:2, :2])"
   ]
  },
  {
   "cell_type": "code",
   "execution_count": null,
   "metadata": {
    "executionInfo": {
     "elapsed": 9668,
     "status": "aborted",
     "timestamp": 1618777971314,
     "user": {
      "displayName": "성균관대학교홍만수",
      "photoUrl": "",
      "userId": "05963146355021129777"
     },
     "user_tz": -540
    },
    "id": "z5hDGRP4xsS1"
   },
   "outputs": [],
   "source": [
    "trans = transforms.Normalize(mean=(0.5, 0.3, 0.2), std=(0.5, 0.4, 0.5))\n",
    "\n",
    "newx = trans(x)\n",
    "\n",
    "print(newx[:2, :2])"
   ]
  },
  {
   "cell_type": "code",
   "execution_count": null,
   "metadata": {
    "executionInfo": {
     "elapsed": 9661,
     "status": "aborted",
     "timestamp": 1618777971314,
     "user": {
      "displayName": "성균관대학교홍만수",
      "photoUrl": "",
      "userId": "05963146355021129777"
     },
     "user_tz": -540
    },
    "id": "5yqWEZcFxsJt"
   },
   "outputs": [],
   "source": [
    "trans = transforms.RandomErasing(p=1, scale=(0.1, 0.3))\n",
    "\n",
    "newx = trans(x)\n",
    "\n",
    "print(newx[:2, :2])"
   ]
  },
  {
   "cell_type": "code",
   "execution_count": null,
   "metadata": {
    "executionInfo": {
     "elapsed": 9659,
     "status": "aborted",
     "timestamp": 1618777971314,
     "user": {
      "displayName": "성균관대학교홍만수",
      "photoUrl": "",
      "userId": "05963146355021129777"
     },
     "user_tz": -540
    },
    "id": "byt95Apmbfpx"
   },
   "outputs": [],
   "source": [
    "transform = transforms.Compose([\n",
    "    transforms.Resize((224, 224)),\n",
    "    transforms.Grayscale(),\n",
    "    transforms.RandomAffine(degrees=20, translate=(0.1, 0.1)),\n",
    "    transforms.ToTensor(),\n",
    "    transforms.Normalize(mean=(0.5), std=(0.5)),\n",
    "])"
   ]
  },
  {
   "cell_type": "markdown",
   "metadata": {
    "id": "GdYIBo-1jbDJ"
   },
   "source": [
    "## torchvision.datasets"
   ]
  },
  {
   "cell_type": "code",
   "execution_count": null,
   "metadata": {
    "executionInfo": {
     "elapsed": 9659,
     "status": "aborted",
     "timestamp": 1618777971315,
     "user": {
      "displayName": "성균관대학교홍만수",
      "photoUrl": "",
      "userId": "05963146355021129777"
     },
     "user_tz": -540
    },
    "id": "KD53jHZiZvS8"
   },
   "outputs": [],
   "source": [
    "import torchvision.datasets as datasets"
   ]
  },
  {
   "cell_type": "code",
   "execution_count": null,
   "metadata": {
    "executionInfo": {
     "elapsed": 9657,
     "status": "aborted",
     "timestamp": 1618777971316,
     "user": {
      "displayName": "성균관대학교홍만수",
      "photoUrl": "",
      "userId": "05963146355021129777"
     },
     "user_tz": -540
    },
    "id": "V0qxYarLi2kO"
   },
   "outputs": [],
   "source": [
    "transform = transforms.Compose([\n",
    "    transforms.ToTensor(),\n",
    "    transforms.Normalize((0.5), (0.5))\n",
    "])\n",
    "\n",
    "train_dataset = torchvision.datasets.MNIST(\n",
    "    root='./',\n",
    "    download=True,\n",
    "    train=True,\n",
    "    transform=transform\n",
    ")\n",
    "\n",
    "test_dataset = torchvision.datasets.MNIST(\n",
    "    root='./',\n",
    "    download=False,\n",
    "    train=False,\n",
    "    transform= transform\n",
    ")"
   ]
  },
  {
   "cell_type": "code",
   "execution_count": null,
   "metadata": {
    "executionInfo": {
     "elapsed": 9655,
     "status": "aborted",
     "timestamp": 1618777971316,
     "user": {
      "displayName": "성균관대학교홍만수",
      "photoUrl": "",
      "userId": "05963146355021129777"
     },
     "user_tz": -540
    },
    "id": "KzeMksx0kLbf"
   },
   "outputs": [],
   "source": []
  }
 ],
 "metadata": {
  "accelerator": "GPU",
  "colab": {
   "collapsed_sections": [],
   "name": "Week9_First_AI_Project_210419.ipynb",
   "version": ""
  },
  "kernelspec": {
   "display_name": "Python 3",
   "language": "python",
   "name": "python3"
  },
  "language_info": {
   "codemirror_mode": {
    "name": "ipython",
    "version": 3
   },
   "file_extension": ".py",
   "mimetype": "text/x-python",
   "name": "python",
   "nbconvert_exporter": "python",
   "pygments_lexer": "ipython3",
   "version": "3.9.2"
  }
 },
 "nbformat": 4,
 "nbformat_minor": 1
}
