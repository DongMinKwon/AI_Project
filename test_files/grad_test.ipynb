{
 "cells": [
  {
   "cell_type": "code",
   "execution_count": 1,
   "id": "e3ee5dba",
   "metadata": {},
   "outputs": [],
   "source": [
    "import torch"
   ]
  },
  {
   "cell_type": "code",
   "execution_count": 11,
   "id": "f924578d",
   "metadata": {},
   "outputs": [
    {
     "name": "stdout",
     "output_type": "stream",
     "text": [
      "tensor(5., grad_fn=<MeanBackward0>)\n"
     ]
    }
   ],
   "source": [
    "x_train = torch.FloatTensor([[1, 2, 3],[4, 5, 6]])\n",
    "\n",
    "W = torch.zeros((3, 1), requires_grad=True)\n",
    "b = torch.tensor(2.0, requires_grad=True)\n",
    "C = torch.tensor(3.0)\n",
    "\n",
    "Z = x_train.matmul(W) + b + C\n",
    "cost = torch.mean(Z)\n",
    "\n",
    "print(cost)"
   ]
  },
  {
   "cell_type": "code",
   "execution_count": 13,
   "id": "301a72b9",
   "metadata": {},
   "outputs": [
    {
     "name": "stdout",
     "output_type": "stream",
     "text": [
      "<class 'torch.Tensor'> <class 'torch.Tensor'> <class 'torch.Tensor'> <class 'torch.Tensor'> <class 'torch.Tensor'>\n"
     ]
    }
   ],
   "source": [
    "print(type(W), type(b), type(Z), type(C), type(cost))"
   ]
  },
  {
   "cell_type": "code",
   "execution_count": 15,
   "id": "01be703e",
   "metadata": {},
   "outputs": [
    {
     "name": "stdout",
     "output_type": "stream",
     "text": [
      "None\n",
      "None\n",
      "None\n"
     ]
    }
   ],
   "source": [
    "print(W.grad)\n",
    "print(b.grad)\n",
    "print(C.grad)"
   ]
  },
  {
   "cell_type": "code",
   "execution_count": 16,
   "id": "b90222f3",
   "metadata": {},
   "outputs": [
    {
     "name": "stdout",
     "output_type": "stream",
     "text": [
      "tensor([[2.5000],\n",
      "        [3.5000],\n",
      "        [4.5000]])\n",
      "tensor(1.)\n",
      "None\n",
      "tensor([[5.],\n",
      "        [5.]], grad_fn=<AddBackward0>)\n"
     ]
    }
   ],
   "source": [
    "cost.backward()\n",
    "\n",
    "print(W.grad)\n",
    "print(b.grad)\n",
    "print(C.grad)\n",
    "print(Z)"
   ]
  },
  {
   "cell_type": "code",
   "execution_count": null,
   "id": "99607ead",
   "metadata": {},
   "outputs": [],
   "source": []
  }
 ],
 "metadata": {
  "kernelspec": {
   "display_name": "Python 3",
   "language": "python",
   "name": "python3"
  },
  "language_info": {
   "codemirror_mode": {
    "name": "ipython",
    "version": 3
   },
   "file_extension": ".py",
   "mimetype": "text/x-python",
   "name": "python",
   "nbconvert_exporter": "python",
   "pygments_lexer": "ipython3",
   "version": "3.9.2"
  }
 },
 "nbformat": 4,
 "nbformat_minor": 5
}
