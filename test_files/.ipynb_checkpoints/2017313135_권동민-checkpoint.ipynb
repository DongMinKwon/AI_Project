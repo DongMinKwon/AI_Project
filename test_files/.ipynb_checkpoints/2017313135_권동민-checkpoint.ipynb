{
 "cells": [
  {
   "cell_type": "code",
   "execution_count": 1,
   "id": "fd59615a",
   "metadata": {},
   "outputs": [],
   "source": [
    "import torch\n",
    "import torch.nn as nn\n",
    "import torchvision.datasets as dataset\n",
    "import torchvision.transforms as transform\n",
    "from torch.utils.data import Dataset\n",
    "from torch.utils.data import DataLoader\n",
    "from torch.utils.data.sampler import SubsetRandomSampler\n",
    "import torch.nn.functional as F\n",
    "import torch.optim as optim"
   ]
  },
  {
   "cell_type": "code",
   "execution_count": 2,
   "id": "574fde4a",
   "metadata": {},
   "outputs": [],
   "source": [
    "import os\n",
    "import random\n",
    "import numpy as np"
   ]
  },
  {
   "cell_type": "code",
   "execution_count": 3,
   "id": "51d7c12c",
   "metadata": {},
   "outputs": [
    {
     "data": {
      "text/plain": [
       "<torch._C.Generator at 0x25d410e3b50>"
      ]
     },
     "execution_count": 3,
     "metadata": {},
     "output_type": "execute_result"
    }
   ],
   "source": [
    "#reproducibility\n",
    "SEED = 100\n",
    "\n",
    "os.environ['PYTHONHASHSEED'] = str(SEED)\n",
    "random.seed(SEED)\n",
    "np.random.seed(SEED)\n",
    "torch.manual_seed(SEED)"
   ]
  },
  {
   "cell_type": "code",
   "execution_count": 4,
   "id": "af442446",
   "metadata": {},
   "outputs": [],
   "source": [
    "#gpu acceleration\n",
    "device = torch.device(\"cuda:0\" if torch.cuda.is_available() else \"cpu\")"
   ]
  },
  {
   "cell_type": "code",
   "execution_count": 5,
   "id": "bd9662e3",
   "metadata": {},
   "outputs": [],
   "source": [
    "#data load from torchvision\n",
    "\n",
    "total_train = dataset.MNIST(root='./data', train=True, transform=transform.ToTensor(), download=True)\n",
    "test = dataset.MNIST(root='./data', train=False, transform=transform.ToTensor(), download=True)"
   ]
  },
  {
   "cell_type": "code",
   "execution_count": 6,
   "id": "eb7fee16",
   "metadata": {},
   "outputs": [
    {
     "name": "stdout",
     "output_type": "stream",
     "text": [
      "60000\n"
     ]
    }
   ],
   "source": [
    "print(len(total_train))"
   ]
  },
  {
   "cell_type": "code",
   "execution_count": 7,
   "id": "5f7df00a",
   "metadata": {},
   "outputs": [],
   "source": [
    "#get val_data and make dataloader\n",
    "\n",
    "indices = list(range(len(total_train)))\n",
    "np.random.shuffle(indices)"
   ]
  },
  {
   "cell_type": "code",
   "execution_count": 8,
   "id": "49f30d3d",
   "metadata": {},
   "outputs": [
    {
     "name": "stdout",
     "output_type": "stream",
     "text": [
      "54000\n"
     ]
    }
   ],
   "source": [
    "split = int(np.floor(0.9 * len(total_train)))\n",
    "print(split)"
   ]
  },
  {
   "cell_type": "code",
   "execution_count": 9,
   "id": "7f2cdeac",
   "metadata": {},
   "outputs": [],
   "source": [
    "tr_idx, val_idx = indices[:split], indices[split:]"
   ]
  },
  {
   "cell_type": "code",
   "execution_count": 10,
   "id": "c8db4620",
   "metadata": {},
   "outputs": [],
   "source": [
    "tr_sampler = SubsetRandomSampler(tr_idx)\n",
    "val_sampler = SubsetRandomSampler(val_idx)"
   ]
  },
  {
   "cell_type": "code",
   "execution_count": 11,
   "id": "0e7391b2",
   "metadata": {},
   "outputs": [],
   "source": [
    "train_loader = DataLoader(\n",
    "    dataset=total_train,\n",
    "    batch_size=50,\n",
    "    num_workers=0,\n",
    "    sampler=tr_sampler\n",
    ")\n",
    "\n",
    "val_loader = DataLoader(\n",
    "    dataset=total_train,\n",
    "    batch_size=50,\n",
    "    num_workers=0,\n",
    "    sampler=val_sampler\n",
    ")"
   ]
  },
  {
   "cell_type": "code",
   "execution_count": 12,
   "id": "459bc030",
   "metadata": {},
   "outputs": [],
   "source": [
    "class CNN_Net(nn.Module):\n",
    "    def __init__(self):\n",
    "        super().__init__()    \n",
    "        self.conv1 = nn.Conv2d(1, 16, kernel_size=3, stride=1, padding=1)\n",
    "        self.conv2 = nn.Conv2d(16, 32, kernel_size=3, stride=1, padding=1)\n",
    "        self.pool = nn.MaxPool2d(2, 2)\n",
    "        self.func = nn.Linear(32*7*7, 10, bias=True)\n",
    "        \n",
    "        torch.nn.init.xavier_uniform_(self.func.weight)\n",
    "        \n",
    "    def forward(self, x):\n",
    "        out = x.view(-1, 1, 28, 28)\n",
    "        out = self.pool(F.relu(self.conv1(out)))\n",
    "        out = self.pool(F.relu(self.conv2(out)))\n",
    "        out = out.view(out.size(0), -1)\n",
    "        out = self.func(out)\n",
    "        return out"
   ]
  },
  {
   "cell_type": "code",
   "execution_count": 13,
   "id": "ae28e53f",
   "metadata": {},
   "outputs": [],
   "source": [
    "model = CNN_Net()\n",
    "model = model.to(device)"
   ]
  },
  {
   "cell_type": "code",
   "execution_count": 14,
   "id": "22fa7986",
   "metadata": {},
   "outputs": [],
   "source": [
    "criterion = nn.CrossEntropyLoss()\n",
    "optimizer = optim.SGD(model.parameters(), lr=0.001)"
   ]
  },
  {
   "cell_type": "code",
   "execution_count": 15,
   "id": "7c4f756c",
   "metadata": {},
   "outputs": [
    {
     "name": "stdout",
     "output_type": "stream",
     "text": [
      "[10/50] TrainLoss: 316.276, ValLoss: 34.631 | TrainAcc: 0.91, ValAcc: 0.92\n",
      "[20/50] TrainLoss: 221.371, ValLoss: 24.130 | TrainAcc: 0.94, ValAcc: 0.94\n",
      "[30/50] TrainLoss: 162.031, ValLoss: 17.884 | TrainAcc: 0.96, ValAcc: 0.95\n",
      "[40/50] TrainLoss: 126.562, ValLoss: 14.032 | TrainAcc: 0.97, ValAcc: 0.96\n",
      "[50/50] TrainLoss: 105.392, ValLoss: 12.207 | TrainAcc: 0.97, ValAcc: 0.97\n"
     ]
    }
   ],
   "source": [
    "epochs = 50\n",
    "\n",
    "for epoch in range(1, epochs + 1):\n",
    "    \n",
    "    train_loss = 0\n",
    "    train_total = 0\n",
    "    train_correct = 0\n",
    "    model.train()\n",
    "    for X_data, Y_data in train_loader:\n",
    "\n",
    "        X_data, Y_data = X_data.to(device), Y_data.to(device)\n",
    "        \n",
    "        hypothesis = model(X_data)\n",
    "        loss = criterion(hypothesis, Y_data)\n",
    "        \n",
    "        optimizer.zero_grad()\n",
    "        loss.backward()\n",
    "        optimizer.step()\n",
    "        \n",
    "        train_loss += loss.item()\n",
    "        \n",
    "        _, predicted = hypothesis.max(1)\n",
    "        train_total += Y_data.size(0)\n",
    "        train_correct += predicted.eq(Y_data).sum().item()\n",
    "    train_acc = train_correct / train_total\n",
    "    \n",
    "    valid_loss = 0\n",
    "    valid_total = 0\n",
    "    valid_correct = 0\n",
    "    model.eval()\n",
    "    with torch.no_grad():\n",
    "        for X_data, Y_data in val_loader:\n",
    "            X_data, Y_data = X_data.to(device), Y_data.to(device)\n",
    "            \n",
    "            outputs = model(X_data)\n",
    "            loss = criterion(outputs, Y_data)\n",
    "            \n",
    "            valid_loss += loss.item()\n",
    "            \n",
    "            _, predicted = outputs.max(1)\n",
    "            valid_total += Y_data.size(0)\n",
    "            valid_correct += predicted.eq(Y_data).sum().item()\n",
    "        valid_acc = valid_correct / valid_total\n",
    "\n",
    "        if(epoch % 10 == 0):\n",
    "            print('[%d/%d] TrainLoss: %.3f, ValLoss: %.3f | TrainAcc: %.2f, ValAcc: %.2f'\n",
    "                 %(epoch, epochs, train_loss, valid_loss, train_acc, valid_acc))"
   ]
  },
  {
   "cell_type": "code",
   "execution_count": 16,
   "id": "7bfc3d70",
   "metadata": {},
   "outputs": [],
   "source": [
    "torch.save(model.state_dict(), './model.pt')"
   ]
  },
  {
   "cell_type": "code",
   "execution_count": 17,
   "id": "d64c7386",
   "metadata": {},
   "outputs": [
    {
     "name": "stdout",
     "output_type": "stream",
     "text": [
      "state_dict format of the model: OrderedDict([('conv1.weight', tensor([[[[-0.2524,  0.2202, -0.1468],\n",
      "          [-0.0045,  0.1271,  0.1785],\n",
      "          [-0.1578, -0.3043, -0.1968]]],\n",
      "\n",
      "\n",
      "        [[[-0.2185, -0.1694,  0.2604],\n",
      "          [ 0.3808,  0.4730,  0.1943],\n",
      "          [ 0.5519,  0.6511,  0.4521]]],\n",
      "\n",
      "\n",
      "        [[[-0.1628, -0.1453, -0.2197],\n",
      "          [ 0.3646,  0.2225,  0.5201],\n",
      "          [ 0.1044,  0.5164,  0.3895]]],\n",
      "\n",
      "\n",
      "        [[[-0.0100, -0.1672,  0.1519],\n",
      "          [ 0.0111, -0.1695,  0.2060],\n",
      "          [-0.0561, -0.3220, -0.1845]]],\n",
      "\n",
      "\n",
      "        [[[ 0.4254,  0.2188, -0.2805],\n",
      "          [ 0.4039,  0.0392, -0.3780],\n",
      "          [ 0.2688, -0.1000, -0.1838]]],\n",
      "\n",
      "\n",
      "        [[[ 0.0196, -0.3034,  0.0076],\n",
      "          [ 0.2716,  0.0650, -0.0377],\n",
      "          [ 0.1532, -0.0269, -0.1068]]],\n",
      "\n",
      "\n",
      "        [[[ 0.1687,  0.1476,  0.2326],\n",
      "          [ 0.0273,  0.4319,  0.3808],\n",
      "          [-0.0719,  0.2033,  0.1573]]],\n",
      "\n",
      "\n",
      "        [[[ 0.6225,  0.6750,  0.4713],\n",
      "          [ 0.5809,  0.5055,  0.1824],\n",
      "          [ 0.0116,  0.5730,  0.3879]]],\n",
      "\n",
      "\n",
      "        [[[-0.2560,  0.1116, -0.0977],\n",
      "          [-0.3021,  0.3258,  0.0392],\n",
      "          [ 0.1245,  0.0017, -0.2812]]],\n",
      "\n",
      "\n",
      "        [[[ 0.5405, -0.0239, -0.4175],\n",
      "          [ 0.5570, -0.0744, -0.2776],\n",
      "          [ 0.5142,  0.2964, -0.2279]]],\n",
      "\n",
      "\n",
      "        [[[-0.0404, -0.1838,  0.2625],\n",
      "          [-0.3002, -0.2147, -0.1326],\n",
      "          [-0.2071,  0.2791, -0.1912]]],\n",
      "\n",
      "\n",
      "        [[[-0.0696,  0.0678, -0.0511],\n",
      "          [ 0.0149, -0.0550, -0.3107],\n",
      "          [ 0.2771, -0.1281,  0.0846]]],\n",
      "\n",
      "\n",
      "        [[[ 0.4437,  0.2940, -0.2260],\n",
      "          [ 0.3200,  0.4106,  0.3924],\n",
      "          [ 0.5505,  0.6161,  0.2463]]],\n",
      "\n",
      "\n",
      "        [[[ 0.4130,  0.0106, -0.1294],\n",
      "          [ 0.0046,  0.4414,  0.2673],\n",
      "          [ 0.1669, -0.1077, -0.1363]]],\n",
      "\n",
      "\n",
      "        [[[ 0.0021,  0.0352, -0.2921],\n",
      "          [ 0.2723, -0.1590, -0.1100],\n",
      "          [-0.1863,  0.0383, -0.1584]]],\n",
      "\n",
      "\n",
      "        [[[ 0.6598,  0.7320,  0.3797],\n",
      "          [ 0.2818,  0.7647,  0.6040],\n",
      "          [ 0.5666, -0.0195,  0.1780]]]], device='cuda:0')), ('conv1.bias', tensor([-2.2472e-02,  3.2101e-02,  3.0329e-02,  6.1391e-02,  2.4616e-01,\n",
      "        -3.3118e-01, -1.2657e-01, -1.4718e-05, -1.8631e-01, -2.0544e-04,\n",
      "        -2.4071e-01, -3.1489e-01,  8.9892e-03,  7.0344e-05,  1.3525e-01,\n",
      "         1.8344e-01], device='cuda:0')), ('conv2.weight', tensor([[[[-0.0455,  0.0426,  0.0243],\n",
      "          [-0.0221, -0.0538, -0.0339],\n",
      "          [ 0.0821, -0.0483, -0.0618]],\n",
      "\n",
      "         [[-0.0547,  0.0688,  0.0303],\n",
      "          [-0.0508,  0.0832, -0.0645],\n",
      "          [-0.0810, -0.0592,  0.0470]],\n",
      "\n",
      "         [[-0.0311, -0.0336, -0.0261],\n",
      "          [-0.0495,  0.0799, -0.0009],\n",
      "          [-0.0230,  0.0781, -0.0773]],\n",
      "\n",
      "         ...,\n",
      "\n",
      "         [[-0.0513, -0.0437, -0.0560],\n",
      "          [-0.0546,  0.0577, -0.0655],\n",
      "          [ 0.0352, -0.0599, -0.0342]],\n",
      "\n",
      "         [[-0.0289, -0.0051, -0.0172],\n",
      "          [ 0.0344,  0.0693,  0.0508],\n",
      "          [ 0.0379,  0.0511, -0.0550]],\n",
      "\n",
      "         [[-0.0496,  0.0696, -0.0811],\n",
      "          [-0.0777,  0.0756,  0.0091],\n",
      "          [ 0.0431, -0.0568, -0.0171]]],\n",
      "\n",
      "\n",
      "        [[[-0.0431, -0.0615, -0.0080],\n",
      "          [-0.0771,  0.0242,  0.0519],\n",
      "          [-0.0411,  0.0606,  0.0550]],\n",
      "\n",
      "         [[-0.0445, -0.0739, -0.0143],\n",
      "          [-0.0788, -0.0753, -0.0502],\n",
      "          [-0.0553,  0.0119,  0.0310]],\n",
      "\n",
      "         [[ 0.0040, -0.0759,  0.0589],\n",
      "          [ 0.0489, -0.0555, -0.0655],\n",
      "          [ 0.0490,  0.1091, -0.0305]],\n",
      "\n",
      "         ...,\n",
      "\n",
      "         [[-0.0328,  0.0049, -0.0756],\n",
      "          [-0.0274,  0.0270,  0.0172],\n",
      "          [ 0.0020, -0.0112, -0.0586]],\n",
      "\n",
      "         [[ 0.0303,  0.0148,  0.0552],\n",
      "          [-0.0719,  0.0602,  0.0684],\n",
      "          [-0.0495,  0.0408,  0.0415]],\n",
      "\n",
      "         [[ 0.0472,  0.0066,  0.0460],\n",
      "          [ 0.0525, -0.0685, -0.0892],\n",
      "          [-0.0297,  0.0820,  0.0621]]],\n",
      "\n",
      "\n",
      "        [[[ 0.0645, -0.0289, -0.0138],\n",
      "          [-0.0662, -0.0378,  0.0420],\n",
      "          [-0.0835, -0.0335, -0.0376]],\n",
      "\n",
      "         [[-0.0893,  0.0076,  0.0232],\n",
      "          [-0.1222, -0.1180,  0.0108],\n",
      "          [-0.0207, -0.0175,  0.1059]],\n",
      "\n",
      "         [[-0.0445, -0.0300,  0.0501],\n",
      "          [ 0.0051, -0.0373,  0.0154],\n",
      "          [-0.0620, -0.0162,  0.0691]],\n",
      "\n",
      "         ...,\n",
      "\n",
      "         [[-0.0254,  0.0892, -0.0508],\n",
      "          [-0.0772, -0.0877,  0.0652],\n",
      "          [-0.0246,  0.0594, -0.0321]],\n",
      "\n",
      "         [[-0.0761,  0.0480,  0.0115],\n",
      "          [-0.0378, -0.0023,  0.0426],\n",
      "          [ 0.0071, -0.0806,  0.0164]],\n",
      "\n",
      "         [[-0.0564,  0.1025,  0.1413],\n",
      "          [ 0.0075,  0.0164,  0.1412],\n",
      "          [-0.1108, -0.1192,  0.0086]]],\n",
      "\n",
      "\n",
      "        ...,\n",
      "\n",
      "\n",
      "        [[[ 0.0667, -0.0719, -0.0567],\n",
      "          [-0.0538,  0.0518,  0.0555],\n",
      "          [ 0.0446,  0.0019, -0.0055]],\n",
      "\n",
      "         [[ 0.0151, -0.0163,  0.0986],\n",
      "          [ 0.0375, -0.1245, -0.0830],\n",
      "          [ 0.0916,  0.0936, -0.0055]],\n",
      "\n",
      "         [[-0.0486,  0.0131,  0.0762],\n",
      "          [-0.0785, -0.0815, -0.0983],\n",
      "          [ 0.0587,  0.0344, -0.0425]],\n",
      "\n",
      "         ...,\n",
      "\n",
      "         [[-0.0049, -0.0433,  0.0238],\n",
      "          [-0.0211, -0.0148, -0.0770],\n",
      "          [ 0.0805,  0.0445,  0.0530]],\n",
      "\n",
      "         [[ 0.0218,  0.0420, -0.0672],\n",
      "          [-0.0709,  0.0466,  0.0678],\n",
      "          [-0.0216, -0.0262,  0.0458]],\n",
      "\n",
      "         [[-0.0587,  0.0048,  0.1521],\n",
      "          [-0.0360, -0.1201,  0.0585],\n",
      "          [ 0.0142, -0.1215, -0.0158]]],\n",
      "\n",
      "\n",
      "        [[[-0.0260, -0.0125, -0.0214],\n",
      "          [ 0.0640,  0.0461,  0.0572],\n",
      "          [-0.0771, -0.0763, -0.0078]],\n",
      "\n",
      "         [[ 0.0365,  0.1071, -0.0767],\n",
      "          [ 0.1246,  0.0666, -0.0572],\n",
      "          [ 0.0644, -0.0288, -0.0807]],\n",
      "\n",
      "         [[ 0.0782,  0.0263, -0.1263],\n",
      "          [ 0.0459, -0.0584, -0.0141],\n",
      "          [ 0.0331, -0.0068,  0.0299]],\n",
      "\n",
      "         ...,\n",
      "\n",
      "         [[ 0.0500, -0.0612,  0.0411],\n",
      "          [ 0.0334, -0.0426, -0.0337],\n",
      "          [ 0.0816,  0.0761, -0.0087]],\n",
      "\n",
      "         [[-0.0755, -0.0219,  0.0243],\n",
      "          [-0.0787,  0.0756, -0.0091],\n",
      "          [-0.0162, -0.0225, -0.0494]],\n",
      "\n",
      "         [[-0.0215,  0.0246, -0.0110],\n",
      "          [ 0.0124,  0.0521, -0.1502],\n",
      "          [ 0.0768,  0.0468, -0.1217]]],\n",
      "\n",
      "\n",
      "        [[[ 0.0390, -0.0505,  0.0382],\n",
      "          [ 0.0804,  0.0629, -0.0570],\n",
      "          [-0.0649,  0.0628, -0.0742]],\n",
      "\n",
      "         [[-0.0849, -0.0253, -0.0759],\n",
      "          [ 0.0471, -0.0312, -0.0775],\n",
      "          [-0.0072,  0.0357, -0.0353]],\n",
      "\n",
      "         [[-0.1012, -0.0686, -0.0254],\n",
      "          [-0.0113,  0.0343, -0.0122],\n",
      "          [ 0.1198,  0.0264, -0.0324]],\n",
      "\n",
      "         ...,\n",
      "\n",
      "         [[ 0.0517,  0.0396,  0.0566],\n",
      "          [-0.0434,  0.0080,  0.0549],\n",
      "          [ 0.0730,  0.0479,  0.0743]],\n",
      "\n",
      "         [[ 0.0398,  0.0178,  0.0347],\n",
      "          [ 0.0703,  0.0259,  0.0142],\n",
      "          [-0.0416,  0.0681,  0.0766]],\n",
      "\n",
      "         [[ 0.0339, -0.1005, -0.0437],\n",
      "          [ 0.0007,  0.0065, -0.0301],\n",
      "          [ 0.1097, -0.0559, -0.0473]]]], device='cuda:0')), ('conv2.bias', tensor([ 0.0244,  0.0316, -0.0663, -0.0143,  0.0200,  0.0298,  0.0695, -0.0041,\n",
      "        -0.0191,  0.0722,  0.0351,  0.0248, -0.0395,  0.0764, -0.0425, -0.0676,\n",
      "         0.0438, -0.1012, -0.0440,  0.0634,  0.0530,  0.0269,  0.0398,  0.0173,\n",
      "         0.0423, -0.0282,  0.0855,  0.0167,  0.0170,  0.1207,  0.0013, -0.0432],\n",
      "       device='cuda:0')), ('func.weight', tensor([[-0.0206, -0.0119,  0.0290,  ...,  0.0197,  0.0030,  0.0568],\n",
      "        [-0.0487, -0.0411,  0.0298,  ..., -0.0419,  0.0201,  0.0173],\n",
      "        [ 0.0137, -0.0192, -0.0098,  ..., -0.0588, -0.0227,  0.0214],\n",
      "        ...,\n",
      "        [-0.0428, -0.0492,  0.0020,  ..., -0.0022, -0.0585, -0.0266],\n",
      "        [-0.0581,  0.0139, -0.0185,  ..., -0.0143, -0.0572,  0.0452],\n",
      "        [-0.0564,  0.0147,  0.0610,  ..., -0.0370,  0.0589, -0.0391]],\n",
      "       device='cuda:0')), ('func.bias', tensor([-0.0444,  0.0100,  0.0079, -0.0113, -0.0347,  0.0620, -0.0060,  0.0314,\n",
      "        -0.0149,  0.0215], device='cuda:0'))])\n"
     ]
    }
   ],
   "source": [
    "print('state_dict format of the model: {}'.format(model.state_dict()))"
   ]
  },
  {
   "cell_type": "code",
   "execution_count": null,
   "id": "3f931c26",
   "metadata": {},
   "outputs": [],
   "source": []
  },
  {
   "cell_type": "code",
   "execution_count": null,
   "id": "8440530a",
   "metadata": {},
   "outputs": [],
   "source": [
    "#test model"
   ]
  },
  {
   "cell_type": "code",
   "execution_count": 31,
   "id": "b1b613e3",
   "metadata": {},
   "outputs": [],
   "source": [
    "new_model = CNN_Net()\n",
    "new_model.load_state_dict(torch.load('./2017313135_권동민.pt'))\n",
    "new_model = new_model.to(device)"
   ]
  },
  {
   "cell_type": "code",
   "execution_count": 34,
   "id": "d450c475",
   "metadata": {},
   "outputs": [
    {
     "name": "stdout",
     "output_type": "stream",
     "text": [
      "TestAcc: 0.97\n"
     ]
    }
   ],
   "source": [
    "with torch.no_grad():\n",
    "    X_data = test.test_data.view(len(test), 1, 28, 28).float().to(device)\n",
    "    Y_data = test.test_labels.to(device)\n",
    "\n",
    "    prediction = new_model(X_data)\n",
    "    _, predicted = prediction.max(1)\n",
    "    correct = predicted.eq(Y_data).sum().item()\n",
    "    test_acc = correct / Y_data.size(0)\n",
    "    print('TestAcc: %.2f' % test_acc)"
   ]
  },
  {
   "cell_type": "code",
   "execution_count": null,
   "id": "658ac189",
   "metadata": {},
   "outputs": [],
   "source": []
  }
 ],
 "metadata": {
  "kernelspec": {
   "display_name": "Python 3",
   "language": "python",
   "name": "python3"
  },
  "language_info": {
   "codemirror_mode": {
    "name": "ipython",
    "version": 3
   },
   "file_extension": ".py",
   "mimetype": "text/x-python",
   "name": "python",
   "nbconvert_exporter": "python",
   "pygments_lexer": "ipython3",
   "version": "3.9.2"
  }
 },
 "nbformat": 4,
 "nbformat_minor": 5
}
